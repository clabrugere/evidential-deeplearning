{
 "cells": [
  {
   "cell_type": "markdown",
   "metadata": {},
   "source": [
    "# Imports"
   ]
  },
  {
   "cell_type": "code",
   "execution_count": null,
   "metadata": {},
   "outputs": [],
   "source": [
    "%load_ext autoreload\n",
    "%autoreload 2"
   ]
  },
  {
   "cell_type": "code",
   "execution_count": 78,
   "metadata": {},
   "outputs": [],
   "source": [
    "import sys\n",
    "\n",
    "sys.path.append(\"..\")\n",
    "\n",
    "import torch\n",
    "from torch import nn\n",
    "import torch.nn.functional as F\n",
    "from torch.utils.data import DataLoader\n",
    "from torchvision import datasets\n",
    "from torchvision.transforms import ToTensor\n",
    "import matplotlib.pyplot as plt\n",
    "import seaborn as sns\n",
    "\n",
    "from model.edl import EDLClassifier, TypeIIMaximumLikelihoodLoss, CEBayesRiskLoss, SSBayesRiskLoss, KLDivergenceLoss"
   ]
  },
  {
   "cell_type": "markdown",
   "metadata": {},
   "source": [
    "# Read some data"
   ]
  },
  {
   "cell_type": "code",
   "execution_count": 170,
   "metadata": {},
   "outputs": [
    {
     "name": "stdout",
     "output_type": "stream",
     "text": [
      "training_data[0][0].size()=torch.Size([1, 28, 28])\n",
      "training_data[0][1]=5\n",
      "len(train_dataloader)=235\n",
      "len(test_dataloader)=40\n"
     ]
    }
   ],
   "source": [
    "# change to CPU if you don't run on a mac and don't have a GPU\n",
    "device = torch.device(\"cuda\" if torch.cuda.is_available() else \"cpu\")\n",
    "batch_size = 256\n",
    "training_data = datasets.MNIST(\n",
    "    root=\"../data\",\n",
    "    train=True,\n",
    "    download=True,\n",
    "    transform=ToTensor(),\n",
    ")\n",
    "\n",
    "test_data = datasets.MNIST(\n",
    "    root=\"../data\",\n",
    "    train=False,\n",
    "    download=True,\n",
    "    transform=ToTensor(),\n",
    ")\n",
    "\n",
    "train_dataloader = DataLoader(training_data, batch_size=batch_size, shuffle=True)\n",
    "test_dataloader = DataLoader(test_data, batch_size=batch_size, shuffle=False)\n",
    "\n",
    "print(f\"{training_data[0][0].size()=}\")\n",
    "print(f\"{training_data[0][1]=}\")\n",
    "\n",
    "print(f\"{len(train_dataloader)=}\")\n",
    "print(f\"{len(test_dataloader)=}\")"
   ]
  },
  {
   "cell_type": "markdown",
   "metadata": {},
   "source": [
    "# Train and evaluate the model"
   ]
  },
  {
   "cell_type": "code",
   "execution_count": 171,
   "metadata": {},
   "outputs": [
    {
     "name": "stdout",
     "output_type": "stream",
     "text": [
      "num_trainable_params=431070\n"
     ]
    }
   ],
   "source": [
    "# define a simple encoder for image modality      \n",
    "# output is of shape (batch, 50, 4, 4)\n",
    "encoder = nn.Sequential(\n",
    "    nn.Conv2d(1, 20, 5),\n",
    "    nn.ReLU(),\n",
    "    nn.MaxPool2d(2, 2),\n",
    "    nn.Conv2d(20, 50, 5),\n",
    "    nn.ReLU(),\n",
    "    nn.MaxPool2d(2, 2)\n",
    ")\n",
    "model = EDLClassifier(encoder, dim_encoder_out=50 * 4 * 4, dim_hidden=500, num_classes=10, dropout=0.2)\n",
    "num_trainable_params = sum(p.numel() for p in model.parameters() if p.requires_grad)\n",
    "\n",
    "print(f\"{num_trainable_params=}\")"
   ]
  },
  {
   "cell_type": "code",
   "execution_count": 182,
   "metadata": {},
   "outputs": [
    {
     "name": "stdout",
     "output_type": "stream",
     "text": [
      "Epoch 01 - batch 235/235 - loss: 0.117\n",
      "Epoch 02 - batch 235/235 - loss: 0.207\n",
      "Epoch 03 - batch 235/235 - loss: 0.212\n",
      "Epoch 04 - batch 235/235 - loss: 0.167\n"
     ]
    }
   ],
   "source": [
    "max_epoch = 4\n",
    "\n",
    "bayes_risk = SSBayesRiskLoss()\n",
    "kld_loss = KLDivergenceLoss()\n",
    "optimizer = torch.optim.Adam(model.parameters(), lr=0.001, weight_decay=0.005)\n",
    "batch_losses = []\n",
    "\n",
    "model.to(device)\n",
    "model.train()\n",
    "\n",
    "for epoch in range(max_epoch):\n",
    "    for i, (x, labels) in enumerate(iter(train_dataloader)):\n",
    "        # the loss expects the target to be one-hot encoded\n",
    "        eye = torch.eye(10, dtype=torch.float32, device=device)\n",
    "        labels = eye[labels]\n",
    "        evidences = model(x)\n",
    "        \n",
    "        annealing_coef = min(1.0, epoch / max_epoch)\n",
    "        loss = bayes_risk(evidences, labels) + annealing_coef * kld_loss(evidences, labels)\n",
    "        loss.backward()\n",
    "        optimizer.step()\n",
    "        optimizer.zero_grad()\n",
    "        \n",
    "        batch_losses.append(loss.cpu().item())\n",
    "        \n",
    "        print(f\"Epoch {epoch + 1:02d} - batch {i + 1}/{len(train_dataloader)} - loss: {loss.cpu().item():.3f}\", end=\"\\r\",)\n",
    "    print(\"\")"
   ]
  },
  {
   "cell_type": "code",
   "execution_count": 183,
   "metadata": {},
   "outputs": [
    {
     "name": "stdout",
     "output_type": "stream",
     "text": [
      "accuracy=97.39%\n"
     ]
    }
   ],
   "source": [
    "model.eval()\n",
    "\n",
    "predictions, uncertainty, beliefs, labels = [], [], [], []\n",
    "for x, y in iter(test_dataloader):\n",
    "    y_pred, u, b = model.predict(x)\n",
    "    labels.append(y)\n",
    "    predictions.append(y_pred)\n",
    "    uncertainty.append(u)\n",
    "    beliefs.append(b)\n",
    "\n",
    "labels = torch.concat(labels, dim=0)\n",
    "predictions = torch.concat(predictions, dim=0)\n",
    "uncertainty = torch.concat(uncertainty, dim=0)\n",
    "beliefs = torch.concat(beliefs, dim=0)\n",
    "\n",
    "accuracy = torch.sum(torch.argmax(predictions, dim=-1) == labels) / len(test_data)\n",
    "\n",
    "print(f\"{accuracy=:.2%}\")"
   ]
  },
  {
   "cell_type": "code",
   "execution_count": 184,
   "metadata": {},
   "outputs": [
    {
     "data": {
      "text/plain": [
       "<Axes: ylabel='Count'>"
      ]
     },
     "execution_count": 184,
     "metadata": {},
     "output_type": "execute_result"
    },
    {
     "data": {
      "image/png": "[encoded data removed]",
      "text/plain": [
       "<Figure size 800x400 with 1 Axes>"
      ]
     },
     "metadata": {},
     "output_type": "display_data"
    }
   ],
   "source": [
    "# Plot model uncertainty on the test set. We see that the mass is on the left which means the model is rather confident\n",
    "# nevertheless we do see a mode around 1 for samples where the model was not able to gather evidence about their classes\n",
    "fig, ax = plt.subplots(figsize=(8, 4))\n",
    "sns.histplot(uncertainty.numpy().ravel(), ax=ax)"
   ]
  },
  {
   "cell_type": "code",
   "execution_count": 185,
   "metadata": {},
   "outputs": [
    {
     "data": {
      "image/png": "[encoded data removed]",
      "text/plain": [
       "<Figure size 800x800 with 4 Axes>"
      ]
     },
     "metadata": {},
     "output_type": "display_data"
    }
   ],
   "source": [
    "figure = plt.figure(figsize=(8, 8))\n",
    "cols, rows = 2, 2\n",
    "for i in range(1, cols * rows + 1):\n",
    "    sample_idx = torch.randint(len(test_data), size=(1,)).item()\n",
    "    img, label = test_data[sample_idx]\n",
    "    figure.add_subplot(rows, cols, i)\n",
    "    plt.title(\n",
    "        f\"true label: {label}, predicted: {predictions.argmax(dim=-1)[sample_idx]}, uncertainty: {uncertainty[sample_idx].item():.2f}\", \n",
    "        fontsize=8\n",
    "    )\n",
    "    plt.axis(\"off\")\n",
    "    plt.imshow(img.squeeze(), cmap=\"gray\")\n",
    "plt.show()"
   ]
  },
  {
   "cell_type": "code",
   "execution_count": null,
   "metadata": {},
   "outputs": [],
   "source": []
  }
 ],
 "metadata": {
  "kernelspec": {
   "display_name": "dnn-uncertainty",
   "language": "python",
   "name": "python3"
  },
  "language_info": {
   "codemirror_mode": {
    "name": "ipython",
    "version": 3
   },
   "file_extension": ".py",
   "mimetype": "text/x-python",
   "name": "python",
   "nbconvert_exporter": "python",
   "pygments_lexer": "ipython3",
   "version": "3.9.15"
  },
  "orig_nbformat": 4
 },
 "nbformat": 4,
 "nbformat_minor": 2
}
